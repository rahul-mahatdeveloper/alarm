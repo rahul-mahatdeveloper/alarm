{
  "cells": [
    {
      "cell_type": "markdown",
      "metadata": {
        "id": "view-in-github",
        "colab_type": "text"
      },
      "source": [
        "<a href=\"https://colab.research.google.com/github/rahul-mahatdeveloper/alarm/blob/main/Copy_of_SD3_API.ipynb\" target=\"_parent\"><img src=\"https://colab.research.google.com/assets/colab-badge.svg\" alt=\"Open In Colab\"/></a>"
      ]
    },
    {
      "cell_type": "markdown",
      "metadata": {
        "id": "rgv9qma6OOue"
      },
      "source": [
        "# SD3 and SD3-Turbo\n",
        "\n",
        "Welcome. This notebook can be used to try out the SD3 service from Stability.\n",
        "\n",
        "\n",
        "---\n",
        "\n",
        "\n",
        "\n",
        "New to colab? Just hit the play button on each of the cells and follow instructions.\n",
        "\n",
        "You will need an account on https://platform.stability.ai/ to use the features.\n",
        "\n",
        "Have fun and do great things."
      ]
    },
    {
      "cell_type": "code",
      "execution_count": 2,
      "metadata": {
        "cellView": "form",
        "id": "AvTo6cVeF3ip"
      },
      "outputs": [],
      "source": [
        "#@title Install requirements\n",
        "from io import BytesIO\n",
        "import IPython\n",
        "import json\n",
        "import os\n",
        "from PIL import Image\n",
        "import requests\n",
        "import time\n",
        "from google.colab import output"
      ]
    },
    {
      "cell_type": "code",
      "execution_count": null,
      "metadata": {
        "cellView": "form",
        "id": "dtw-2LAC7NgM"
      },
      "outputs": [],
      "source": [
        "#@title Connect to the Stability API\n",
        "\n",
        "import getpass\n",
        "# @markdown To get your API key visit https://platform.stability.ai/account/keys\n",
        "STABILITY_KEY = getpass.getpass('Enter your API Key')\n"
      ]
    },
    {
      "cell_type": "code",
      "execution_count": null,
      "metadata": {
        "cellView": "form",
        "id": "pVBZ1o3fH1HX"
      },
      "outputs": [],
      "source": [
        "#@title Define functions\n",
        "\n",
        "def send_generation_request(\n",
        "    host,\n",
        "    params,\n",
        "):\n",
        "    headers = {\n",
        "        \"Accept\": \"image/*\",\n",
        "        \"Authorization\": f\"Bearer {STABILITY_KEY}\"\n",
        "    }\n",
        "\n",
        "    # Encode parameters\n",
        "    files = {}\n",
        "    image = params.pop(\"image\", None)\n",
        "    mask = params.pop(\"mask\", None)\n",
        "    if image is not None and image != '':\n",
        "        files[\"image\"] = open(image, 'rb')\n",
        "    if mask is not None and mask != '':\n",
        "        files[\"mask\"] = open(mask, 'rb')\n",
        "    if len(files)==0:\n",
        "        files[\"none\"] = ''\n",
        "\n",
        "    # Send request\n",
        "    print(f\"Sending REST request to {host}...\")\n",
        "    response = requests.post(\n",
        "        host,\n",
        "        headers=headers,\n",
        "        files=files,\n",
        "        data=params\n",
        "    )\n",
        "    if not response.ok:\n",
        "        raise Exception(f\"HTTP {response.status_code}: {response.text}\")\n",
        "\n",
        "    return response\n"
      ]
    },
    {
      "cell_type": "markdown",
      "metadata": {
        "id": "kLri1VCiqjKJ"
      },
      "source": [
        "# Generate\n",
        "\n",
        "Stable Image services include one offering currently in production:\n",
        "\n",
        "- SD3 and SD3.5 Large:  The 8 billion parameter model. This service will use 6.5 credits.\n",
        "- SD3 and SD3.5 Large Turbo:  A distilled version of Stable Diffusion 3/3.5 Large with a faster inference time. This service will use 4 credits.\n",
        "- SD3 Medium: The 2 billion parameter model. This service will use 3.5 credits.\n",
        "\n",
        "See https://platform.stability.ai/docs/api-reference#tag/Generate\n",
        "\n",
        "Try these services out in the sections below. Check back in for regular updates.\n",
        "\n",
        "Feedback welcome."
      ]
    },
    {
      "cell_type": "markdown",
      "metadata": {
        "id": "RRNh3vR2e7-P"
      },
      "source": [
        "# Text to Image"
      ]
    },
    {
      "cell_type": "code",
      "source": [
        "import requests\n"
      ],
      "metadata": {
        "id": "GP4FcnvoD9RU"
      },
      "execution_count": null,
      "outputs": []
    },
    {
      "cell_type": "code",
      "source": [
        "import requests\n",
        "import IPython.display\n",
        "from PIL import Image\n",
        "\n",
        "# Define parameters\n",
        "prompt = \"A new 20 years old  young boy with expressive eyes and tousled hair, passionately singing on a beautifully lit stage. The scene is inspired by Ghibli-style ghibli style . His voice seems to fill the air. The audience watches in awe, some with tears of joy. His outfit is stylish yet simple.\"\n",
        "negative_prompt = \" stiff movement\"\n",
        "aspect_ratio = \"1:1\"\n",
        "seed = \"0\"\n",
        "output_format = \"jpeg\"\n",
        "\n",
        "# API URL\n",
        "host = \"https://api.stability.ai/v2beta/stable-image/generate/sd3\"\n",
        "\n",
        "# Headers for authentication\n",
        "headers = {\n",
        "    \"authorization\": \"sk-SLiRAHK2XumVTgEeZWJPnrQ6XFlqe6dqryThkD3xE5XJLc8G\",  # Replace with your actual API key\n",
        "    \"accept\": \"image/*\"\n",
        "}\n",
        "\n",
        "# Data to send (must be in multipart format)\n",
        "data = {\n",
        "    \"prompt\": prompt,\n",
        "    \"negative_prompt\": negative_prompt,\n",
        "    \"aspect_ratio\": aspect_ratio,\n",
        "    \"seed\": seed,\n",
        "    \"output_format\": output_format,\n",
        "    \"model\": \"sd3.5-large\",\n",
        "    \"mode\": \"text-to-image\"\n",
        "}\n",
        "\n",
        "# `files` parameter should be passed even if empty\n",
        "files = {\"none\": ''}\n",
        "\n",
        "# Send request\n",
        "print(f\"Sending REST request to {host}...\")\n",
        "response = requests.post(host, headers=headers, files=files, data=data)\n",
        "\n",
        "# Check response\n",
        "if response.status_code == 200:\n",
        "    generated = f\"generated_{seed}.{output_format}\"\n",
        "    with open(generated, \"wb\") as f:\n",
        "        f.write(response.content)\n",
        "    print(f\"Saved image {generated}\")\n",
        "\n",
        "    # Display the image\n",
        "    print(\"Result image:\")\n",
        "    IPython.display.display(Image.open(generated))\n",
        "else:\n",
        "    print(\"Error:\", response.json())\n",
        "\n",
        "\n",
        "\n",
        "\n",
        "\n",
        "\n",
        "\n"
      ],
      "metadata": {
        "collapsed": true,
        "id": "S7Y2riqOEDX3",
        "outputId": "a6025e43-2f51-4345-c0c6-c30c5b2ecde6",
        "colab": {
          "base_uri": "https://localhost:8080/"
        }
      },
      "execution_count": 1,
      "outputs": [
        {
          "output_type": "stream",
          "name": "stdout",
          "text": [
            "Sending REST request to https://api.stability.ai/v2beta/stable-image/generate/sd3...\n",
            "Error: {'errors': ['You lack sufficient credits to make this request.  Please purchase more credits at https://platform.stability.ai/account/credits and try again.'], 'id': 'ada95c98b93699b423b2b4b036033b07', 'name': 'payment_required'}\n"
          ]
        }
      ]
    },
    {
      "cell_type": "code",
      "source": [],
      "metadata": {
        "id": "ZrTt4pa7HHna"
      },
      "execution_count": null,
      "outputs": []
    }
  ],
  "metadata": {
    "colab": {
      "provenance": [],
      "gpuType": "T4",
      "include_colab_link": true
    },
    "kernelspec": {
      "display_name": "Python 3",
      "name": "python3"
    },
    "language_info": {
      "name": "python",
      "version": "3.10.12"
    },
    "accelerator": "GPU"
  },
  "nbformat": 4,
  "nbformat_minor": 0
}